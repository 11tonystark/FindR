{
  "cells": [
    {
      "cell_type": "code",
      "execution_count": 5,
      "metadata": {
        "id": "zt0QjbtoXPr-"
      },
      "outputs": [],
      "source": [
        "import numpy as np\n",
        "import yfinance as yf\n",
        "import pandas as pd\n",
        "import matplotlib.pyplot as plt\n",
        "from matplotlib.pyplot import figure"
      ]
    },
    {
      "cell_type": "code",
      "source": [
        "from google.colab import drive\n",
        "drive.mount('/content/drive')"
      ],
      "metadata": {
        "colab": {
          "base_uri": "https://localhost:8080/"
        },
        "id": "1U-2781LXgfP",
        "outputId": "eff67cba-f234-4348-f261-1c70b42b979f"
      },
      "execution_count": 3,
      "outputs": [
        {
          "output_type": "stream",
          "name": "stdout",
          "text": [
            "Drive already mounted at /content/drive; to attempt to forcibly remount, call drive.mount(\"/content/drive\", force_remount=True).\n"
          ]
        }
      ]
    },
    {
      "cell_type": "code",
      "source": [
        "pip install yfinance"
      ],
      "metadata": {
        "colab": {
          "base_uri": "https://localhost:8080/"
        },
        "id": "iP11y6UUXkO9",
        "outputId": "0bb8f32f-5a85-49ed-f03c-508e6c553353"
      },
      "execution_count": 4,
      "outputs": [
        {
          "output_type": "stream",
          "name": "stdout",
          "text": [
            "Looking in indexes: https://pypi.org/simple, https://us-python.pkg.dev/colab-wheels/public/simple/\n",
            "Collecting yfinance\n",
            "  Downloading yfinance-0.1.85-py2.py3-none-any.whl (29 kB)\n",
            "Collecting requests>=2.26\n",
            "  Downloading requests-2.28.1-py3-none-any.whl (62 kB)\n",
            "\u001b[K     |████████████████████████████████| 62 kB 1.1 MB/s \n",
            "\u001b[?25hRequirement already satisfied: pandas>=0.24.0 in /usr/local/lib/python3.7/dist-packages (from yfinance) (1.3.5)\n",
            "Requirement already satisfied: multitasking>=0.0.7 in /usr/local/lib/python3.7/dist-packages (from yfinance) (0.0.11)\n",
            "Requirement already satisfied: numpy>=1.15 in /usr/local/lib/python3.7/dist-packages (from yfinance) (1.21.6)\n",
            "Requirement already satisfied: appdirs>=1.4.4 in /usr/local/lib/python3.7/dist-packages (from yfinance) (1.4.4)\n",
            "Requirement already satisfied: lxml>=4.5.1 in /usr/local/lib/python3.7/dist-packages (from yfinance) (4.9.1)\n",
            "Requirement already satisfied: python-dateutil>=2.7.3 in /usr/local/lib/python3.7/dist-packages (from pandas>=0.24.0->yfinance) (2.8.2)\n",
            "Requirement already satisfied: pytz>=2017.3 in /usr/local/lib/python3.7/dist-packages (from pandas>=0.24.0->yfinance) (2022.5)\n",
            "Requirement already satisfied: six>=1.5 in /usr/local/lib/python3.7/dist-packages (from python-dateutil>=2.7.3->pandas>=0.24.0->yfinance) (1.15.0)\n",
            "Requirement already satisfied: idna<4,>=2.5 in /usr/local/lib/python3.7/dist-packages (from requests>=2.26->yfinance) (2.10)\n",
            "Requirement already satisfied: charset-normalizer<3,>=2 in /usr/local/lib/python3.7/dist-packages (from requests>=2.26->yfinance) (2.1.1)\n",
            "Requirement already satisfied: certifi>=2017.4.17 in /usr/local/lib/python3.7/dist-packages (from requests>=2.26->yfinance) (2022.9.24)\n",
            "Requirement already satisfied: urllib3<1.27,>=1.21.1 in /usr/local/lib/python3.7/dist-packages (from requests>=2.26->yfinance) (1.24.3)\n",
            "Installing collected packages: requests, yfinance\n",
            "  Attempting uninstall: requests\n",
            "    Found existing installation: requests 2.23.0\n",
            "    Uninstalling requests-2.23.0:\n",
            "      Successfully uninstalled requests-2.23.0\n",
            "Successfully installed requests-2.28.1 yfinance-0.1.85\n"
          ]
        }
      ]
    },
    {
      "cell_type": "code",
      "execution_count": 7,
      "metadata": {
        "id": "iNiix4T-XPsC"
      },
      "outputs": [],
      "source": [
        "#Bring in the predictions\n",
        "import joblib\n",
        "with open('/content/drive/MyDrive/RecessionPredictor-main/models/recession_probs.pkl', 'rb') as f:\n",
        "    y_pred = joblib.load(f)"
      ]
    },
    {
      "cell_type": "code",
      "execution_count": 8,
      "metadata": {
        "id": "b1QWSiOYXPsD"
      },
      "outputs": [],
      "source": [
        "dji = yf.Ticker(\"^DJI\")"
      ]
    },
    {
      "cell_type": "code",
      "execution_count": 9,
      "metadata": {
        "colab": {
          "base_uri": "https://localhost:8080/",
          "height": 265
        },
        "id": "5VxXCyDqXPsD",
        "outputId": "d6ffa02f-9976-49c1-9909-0ab15591f910"
      },
      "outputs": [
        {
          "output_type": "display_data",
          "data": {
            "text/plain": [
              "<Figure size 432x288 with 1 Axes>"
            ],
            "image/png": "[encoded data removed]"
          },
          "metadata": {
            "needs_background": "light"
          }
        }
      ],
      "source": [
        "hist = dji.history(period=\"max\")\n",
        "plt.plot(hist.index,hist['Open']);"
      ]
    },
    {
      "cell_type": "code",
      "execution_count": 10,
      "metadata": {
        "colab": {
          "base_uri": "https://localhost:8080/",
          "height": 265
        },
        "id": "gtwSP3t0XPsE",
        "outputId": "fb2eeaeb-12e0-4dd7-fa36-cd1f6d4eb4a5"
      },
      "outputs": [
        {
          "output_type": "display_data",
          "data": {
            "text/plain": [
              "<Figure size 432x288 with 1 Axes>"
            ],
            "image/png": "[encoded data removed]"
          },
          "metadata": {
            "needs_background": "light"
          }
        }
      ],
      "source": [
        "gold = yf.Ticker(\"GC=F\")\n",
        "gold_hist = gold.history(period='max')\n",
        "plt.plot(gold_hist.index,gold_hist['Open']);"
      ]
    },
    {
      "cell_type": "code",
      "execution_count": 11,
      "metadata": {
        "colab": {
          "base_uri": "https://localhost:8080/",
          "height": 681
        },
        "id": "komwbXe9XPsF",
        "outputId": "52f9b45b-ff95-4eec-e710-bf9cdb733403"
      },
      "outputs": [
        {
          "output_type": "execute_result",
          "data": {
            "text/plain": [
              "                                   Open          High           Low  \\\n",
              "Date                                                                  \n",
              "1992-01-02 00:00:00-05:00   3152.100098   3172.629883   3139.310059   \n",
              "1992-01-03 00:00:00-05:00   3172.399902   3210.639893   3165.919922   \n",
              "1992-01-06 00:00:00-05:00   3201.500000   3213.330078   3191.860107   \n",
              "1992-01-07 00:00:00-05:00   3200.100098   3210.199951   3184.479980   \n",
              "1992-01-08 00:00:00-05:00   3204.800049   3229.199951   3185.820068   \n",
              "...                                 ...           ...           ...   \n",
              "2022-10-31 00:00:00-04:00  32754.269531  32883.859375  32586.929688   \n",
              "2022-11-01 00:00:00-04:00  32862.789062  32975.480469  32485.230469   \n",
              "2022-11-02 00:00:00-04:00  32576.279297  33071.929688  32139.769531   \n",
              "2022-11-03 00:00:00-04:00  31985.050781  32185.710938  31727.050781   \n",
              "2022-11-04 00:00:00-04:00  32265.009766  32611.519531  31938.919922   \n",
              "\n",
              "                                  Close     Volume  Dividends  Stock Splits  \n",
              "Date                                                                         \n",
              "1992-01-02 00:00:00-05:00   3172.399902   23550000          0             0  \n",
              "1992-01-03 00:00:00-05:00   3201.500000   23620000          0             0  \n",
              "1992-01-06 00:00:00-05:00   3200.100098   27280000          0             0  \n",
              "1992-01-07 00:00:00-05:00   3204.800049   25510000          0             0  \n",
              "1992-01-08 00:00:00-05:00   3203.899902   29040000          0             0  \n",
              "...                                 ...        ...        ...           ...  \n",
              "2022-10-31 00:00:00-04:00  32732.949219  390890000          0             0  \n",
              "2022-11-01 00:00:00-04:00  32653.199219  323210000          0             0  \n",
              "2022-11-02 00:00:00-04:00  32147.759766  398430000          0             0  \n",
              "2022-11-03 00:00:00-04:00  32001.250000  354440000          0             0  \n",
              "2022-11-04 00:00:00-04:00  32403.220703  422370000          0             0  \n",
              "\n",
              "[7771 rows x 7 columns]"
            ],
            "text/html": [
              "\n",
              "  <div id=\"df-04233a5d-60af-4348-88bd-dd7059ebb292\">\n",
              "    <div class=\"colab-df-container\">\n",
              "      <div>\n",
              "<style scoped>\n",
              "    .dataframe tbody tr th:only-of-type {\n",
              "        vertical-align: middle;\n",
              "    }\n",
              "\n",
              "    .dataframe tbody tr th {\n",
              "        vertical-align: top;\n",
              "    }\n",
              "\n",
              "    .dataframe thead th {\n",
              "        text-align: right;\n",
              "    }\n",
              "</style>\n",
              "<table border=\"1\" class=\"dataframe\">\n",
              "  <thead>\n",
              "    <tr style=\"text-align: right;\">\n",
              "      <th></th>\n",
              "      <th>Open</th>\n",
              "      <th>High</th>\n",
              "      <th>Low</th>\n",
              "      <th>Close</th>\n",
              "      <th>Volume</th>\n",
              "      <th>Dividends</th>\n",
              "      <th>Stock Splits</th>\n",
              "    </tr>\n",
              "    <tr>\n",
              "      <th>Date</th>\n",
              "      <th></th>\n",
              "      <th></th>\n",
              "      <th></th>\n",
              "      <th></th>\n",
              "      <th></th>\n",
              "      <th></th>\n",
              "      <th></th>\n",
              "    </tr>\n",
              "  </thead>\n",
              "  <tbody>\n",
              "    <tr>\n",
              "      <th>1992-01-02 00:00:00-05:00</th>\n",
              "      <td>3152.100098</td>\n",
              "      <td>3172.629883</td>\n",
              "      <td>3139.310059</td>\n",
              "      <td>3172.399902</td>\n",
              "      <td>23550000</td>\n",
              "      <td>0</td>\n",
              "      <td>0</td>\n",
              "    </tr>\n",
              "    <tr>\n",
              "      <th>1992-01-03 00:00:00-05:00</th>\n",
              "      <td>3172.399902</td>\n",
              "      <td>3210.639893</td>\n",
              "      <td>3165.919922</td>\n",
              "      <td>3201.500000</td>\n",
              "      <td>23620000</td>\n",
              "      <td>0</td>\n",
              "      <td>0</td>\n",
              "    </tr>\n",
              "    <tr>\n",
              "      <th>1992-01-06 00:00:00-05:00</th>\n",
              "      <td>3201.500000</td>\n",
              "      <td>3213.330078</td>\n",
              "      <td>3191.860107</td>\n",
              "      <td>3200.100098</td>\n",
              "      <td>27280000</td>\n",
              "      <td>0</td>\n",
              "      <td>0</td>\n",
              "    </tr>\n",
              "    <tr>\n",
              "      <th>1992-01-07 00:00:00-05:00</th>\n",
              "      <td>3200.100098</td>\n",
              "      <td>3210.199951</td>\n",
              "      <td>3184.479980</td>\n",
              "      <td>3204.800049</td>\n",
              "      <td>25510000</td>\n",
              "      <td>0</td>\n",
              "      <td>0</td>\n",
              "    </tr>\n",
              "    <tr>\n",
              "      <th>1992-01-08 00:00:00-05:00</th>\n",
              "      <td>3204.800049</td>\n",
              "      <td>3229.199951</td>\n",
              "      <td>3185.820068</td>\n",
              "      <td>3203.899902</td>\n",
              "      <td>29040000</td>\n",
              "      <td>0</td>\n",
              "      <td>0</td>\n",
              "    </tr>\n",
              "    <tr>\n",
              "      <th>...</th>\n",
              "      <td>...</td>\n",
              "      <td>...</td>\n",
              "      <td>...</td>\n",
              "      <td>...</td>\n",
              "      <td>...</td>\n",
              "      <td>...</td>\n",
              "      <td>...</td>\n",
              "    </tr>\n",
              "    <tr>\n",
              "      <th>2022-10-31 00:00:00-04:00</th>\n",
              "      <td>32754.269531</td>\n",
              "      <td>32883.859375</td>\n",
              "      <td>32586.929688</td>\n",
              "      <td>32732.949219</td>\n",
              "      <td>390890000</td>\n",
              "      <td>0</td>\n",
              "      <td>0</td>\n",
              "    </tr>\n",
              "    <tr>\n",
              "      <th>2022-11-01 00:00:00-04:00</th>\n",
              "      <td>32862.789062</td>\n",
              "      <td>32975.480469</td>\n",
              "      <td>32485.230469</td>\n",
              "      <td>32653.199219</td>\n",
              "      <td>323210000</td>\n",
              "      <td>0</td>\n",
              "      <td>0</td>\n",
              "    </tr>\n",
              "    <tr>\n",
              "      <th>2022-11-02 00:00:00-04:00</th>\n",
              "      <td>32576.279297</td>\n",
              "      <td>33071.929688</td>\n",
              "      <td>32139.769531</td>\n",
              "      <td>32147.759766</td>\n",
              "      <td>398430000</td>\n",
              "      <td>0</td>\n",
              "      <td>0</td>\n",
              "    </tr>\n",
              "    <tr>\n",
              "      <th>2022-11-03 00:00:00-04:00</th>\n",
              "      <td>31985.050781</td>\n",
              "      <td>32185.710938</td>\n",
              "      <td>31727.050781</td>\n",
              "      <td>32001.250000</td>\n",
              "      <td>354440000</td>\n",
              "      <td>0</td>\n",
              "      <td>0</td>\n",
              "    </tr>\n",
              "    <tr>\n",
              "      <th>2022-11-04 00:00:00-04:00</th>\n",
              "      <td>32265.009766</td>\n",
              "      <td>32611.519531</td>\n",
              "      <td>31938.919922</td>\n",
              "      <td>32403.220703</td>\n",
              "      <td>422370000</td>\n",
              "      <td>0</td>\n",
              "      <td>0</td>\n",
              "    </tr>\n",
              "  </tbody>\n",
              "</table>\n",
              "<p>7771 rows × 7 columns</p>\n",
              "</div>\n",
              "      <button class=\"colab-df-convert\" onclick=\"convertToInteractive('df-04233a5d-60af-4348-88bd-dd7059ebb292')\"\n",
              "              title=\"Convert this dataframe to an interactive table.\"\n",
              "              style=\"display:none;\">\n",
              "        \n",
              "  <svg xmlns=\"http://www.w3.org/2000/svg\" height=\"24px\"viewBox=\"0 0 24 24\"\n",
              "       width=\"24px\">\n",
              "    <path d=\"M0 0h24v24H0V0z\" fill=\"none\"/>\n",
              "    <path d=\"M18.56 5.44l.94 2.06.94-2.06 2.06-.94-2.06-.94-.94-2.06-.94 2.06-2.06.94zm-11 1L8.5 8.5l.94-2.06 2.06-.94-2.06-.94L8.5 2.5l-.94 2.06-2.06.94zm10 10l.94 2.06.94-2.06 2.06-.94-2.06-.94-.94-2.06-.94 2.06-2.06.94z\"/><path d=\"M17.41 7.96l-1.37-1.37c-.4-.4-.92-.59-1.43-.59-.52 0-1.04.2-1.43.59L10.3 9.45l-7.72 7.72c-.78.78-.78 2.05 0 2.83L4 21.41c.39.39.9.59 1.41.59.51 0 1.02-.2 1.41-.59l7.78-7.78 2.81-2.81c.8-.78.8-2.07 0-2.86zM5.41 20L4 18.59l7.72-7.72 1.47 1.35L5.41 20z\"/>\n",
              "  </svg>\n",
              "      </button>\n",
              "      \n",
              "  <style>\n",
              "    .colab-df-container {\n",
              "      display:flex;\n",
              "      flex-wrap:wrap;\n",
              "      gap: 12px;\n",
              "    }\n",
              "\n",
              "    .colab-df-convert {\n",
              "      background-color: #E8F0FE;\n",
              "      border: none;\n",
              "      border-radius: 50%;\n",
              "      cursor: pointer;\n",
              "      display: none;\n",
              "      fill: #1967D2;\n",
              "      height: 32px;\n",
              "      padding: 0 0 0 0;\n",
              "      width: 32px;\n",
              "    }\n",
              "\n",
              "    .colab-df-convert:hover {\n",
              "      background-color: #E2EBFA;\n",
              "      box-shadow: 0px 1px 2px rgba(60, 64, 67, 0.3), 0px 1px 3px 1px rgba(60, 64, 67, 0.15);\n",
              "      fill: #174EA6;\n",
              "    }\n",
              "\n",
              "    [theme=dark] .colab-df-convert {\n",
              "      background-color: #3B4455;\n",
              "      fill: #D2E3FC;\n",
              "    }\n",
              "\n",
              "    [theme=dark] .colab-df-convert:hover {\n",
              "      background-color: #434B5C;\n",
              "      box-shadow: 0px 1px 3px 1px rgba(0, 0, 0, 0.15);\n",
              "      filter: drop-shadow(0px 1px 2px rgba(0, 0, 0, 0.3));\n",
              "      fill: #FFFFFF;\n",
              "    }\n",
              "  </style>\n",
              "\n",
              "      <script>\n",
              "        const buttonEl =\n",
              "          document.querySelector('#df-04233a5d-60af-4348-88bd-dd7059ebb292 button.colab-df-convert');\n",
              "        buttonEl.style.display =\n",
              "          google.colab.kernel.accessAllowed ? 'block' : 'none';\n",
              "\n",
              "        async function convertToInteractive(key) {\n",
              "          const element = document.querySelector('#df-04233a5d-60af-4348-88bd-dd7059ebb292');\n",
              "          const dataTable =\n",
              "            await google.colab.kernel.invokeFunction('convertToInteractive',\n",
              "                                                     [key], {});\n",
              "          if (!dataTable) return;\n",
              "\n",
              "          const docLinkHtml = 'Like what you see? Visit the ' +\n",
              "            '<a target=\"_blank\" href=https://colab.research.google.com/notebooks/data_table.ipynb>data table notebook</a>'\n",
              "            + ' to learn more about interactive tables.';\n",
              "          element.innerHTML = '';\n",
              "          dataTable['output_type'] = 'display_data';\n",
              "          await google.colab.output.renderOutput(dataTable, element);\n",
              "          const docLink = document.createElement('div');\n",
              "          docLink.innerHTML = docLinkHtml;\n",
              "          element.appendChild(docLink);\n",
              "        }\n",
              "      </script>\n",
              "    </div>\n",
              "  </div>\n",
              "  "
            ]
          },
          "metadata": {},
          "execution_count": 11
        }
      ],
      "source": [
        "hist"
      ]
    },
    {
      "cell_type": "code",
      "execution_count": 12,
      "metadata": {
        "colab": {
          "base_uri": "https://localhost:8080/"
        },
        "id": "glj0Krj8XPsF",
        "outputId": "49357032-3bdf-4472-8aa1-debb5e208f6a"
      },
      "outputs": [
        {
          "output_type": "stream",
          "name": "stderr",
          "text": [
            "/usr/local/lib/python3.7/dist-packages/ipykernel_launcher.py:34: FutureWarning: Indexing a timezone-aware DatetimeIndex with a timezone-naive datetime is deprecated and will raise KeyError in a future version.  Use a timezone-aware object instead.\n",
            "/usr/local/lib/python3.7/dist-packages/ipykernel_launcher.py:35: FutureWarning: Indexing a timezone-aware DatetimeIndex with a timezone-naive datetime is deprecated and will raise KeyError in a future version.  Use a timezone-aware object instead.\n",
            "/usr/local/lib/python3.7/dist-packages/ipykernel_launcher.py:41: FutureWarning: Indexing a timezone-aware DatetimeIndex with a timezone-naive datetime is deprecated and will raise KeyError in a future version.  Use a timezone-aware object instead.\n",
            "/usr/local/lib/python3.7/dist-packages/ipykernel_launcher.py:45: FutureWarning: Indexing a timezone-aware DatetimeIndex with a timezone-naive datetime is deprecated and will raise KeyError in a future version.  Use a timezone-aware object instead.\n",
            "/usr/local/lib/python3.7/dist-packages/ipykernel_launcher.py:46: FutureWarning: Indexing a timezone-aware DatetimeIndex with a timezone-naive datetime is deprecated and will raise KeyError in a future version.  Use a timezone-aware object instead.\n",
            "/usr/local/lib/python3.7/dist-packages/ipykernel_launcher.py:25: FutureWarning: Indexing a timezone-aware DatetimeIndex with a timezone-naive datetime is deprecated and will raise KeyError in a future version.  Use a timezone-aware object instead.\n",
            "/usr/local/lib/python3.7/dist-packages/ipykernel_launcher.py:27: FutureWarning: Indexing a timezone-aware DatetimeIndex with a timezone-naive datetime is deprecated and will raise KeyError in a future version.  Use a timezone-aware object instead.\n"
          ]
        },
        {
          "output_type": "stream",
          "name": "stdout",
          "text": [
            "4.963330968965319\n",
            "179.7268073546702\n"
          ]
        }
      ],
      "source": [
        "from datetime import datetime as dt\n",
        "import datetime\n",
        "\n",
        "funds = 100000\n",
        "split = {'aggressive': 0.5, 'conservative': 0.5}\n",
        "portfolio = {'dow jones': 0, 'gold': 0}\n",
        "first_day = dt.fromisoformat('2002-01-02').date()\n",
        "funds_history = []\n",
        "time_history = []\n",
        "for day in range(7000):\n",
        "\n",
        "    #Determine what day it is\n",
        "    today = dt.fromisoformat((first_day + datetime.timedelta(days = day)).isoformat())\n",
        "\n",
        "\n",
        "    \n",
        "    #Determine what split to use in the portfolio based on the predicted model\n",
        "    if today in y_pred.index:\n",
        "        split['aggressive'] = 1 - y_pred.loc[today,:][0]\n",
        "        split['conservative'] = y_pred.loc[today,:][0]\n",
        "\n",
        "    #Invest on first day\n",
        "    if today == dt.fromisoformat((first_day + datetime.timedelta(days = 1)).isoformat()):\n",
        "        funds = 100000\n",
        "        portfolio['dow jones'] = (split['aggressive'] * funds) / hist['Open'].loc[today]\n",
        "        print(portfolio['dow jones'])\n",
        "        portfolio['gold'] = (split['conservative'] * funds) / gold_hist['Open'].loc[today]\n",
        "        print(portfolio['gold'])\n",
        "    #Check if markets are open\n",
        "    if today.isoweekday() in [6,7]:\n",
        "        continue;\n",
        "\n",
        "    try:\n",
        "        hist['Open'].loc[today]\n",
        "        gold_hist['Open'].loc[today]\n",
        "        time_history.append(today)\n",
        "    except:\n",
        "        continue;\n",
        "    \n",
        "    #Sell all assets at their opening value\n",
        "    funds = portfolio['dow jones'] * hist['Open'].loc[today] + portfolio['gold'] * gold_hist['Open'].loc[today]\n",
        "    funds_history.append(funds)\n",
        "\n",
        "    #Buy new assets as determined split\n",
        "    portfolio['dow jones'] = (split['aggressive'] * funds) / hist['Open'].loc[today]\n",
        "    portfolio['gold'] = (split['conservative'] * funds) / gold_hist['Open'].loc[today]\n"
      ]
    },
    {
      "cell_type": "code",
      "execution_count": 13,
      "metadata": {
        "colab": {
          "base_uri": "https://localhost:8080/"
        },
        "id": "3KV9v_PYXPsH",
        "outputId": "2c60ad20-7e7f-4899-d97b-5f81ae4fc37d"
      },
      "outputs": [
        {
          "output_type": "stream",
          "name": "stderr",
          "text": [
            "/usr/local/lib/python3.7/dist-packages/ipykernel_launcher.py:33: FutureWarning: Indexing a timezone-aware DatetimeIndex with a timezone-naive datetime is deprecated and will raise KeyError in a future version.  Use a timezone-aware object instead.\n",
            "/usr/local/lib/python3.7/dist-packages/ipykernel_launcher.py:34: FutureWarning: Indexing a timezone-aware DatetimeIndex with a timezone-naive datetime is deprecated and will raise KeyError in a future version.  Use a timezone-aware object instead.\n",
            "/usr/local/lib/python3.7/dist-packages/ipykernel_launcher.py:40: FutureWarning: Indexing a timezone-aware DatetimeIndex with a timezone-naive datetime is deprecated and will raise KeyError in a future version.  Use a timezone-aware object instead.\n",
            "/usr/local/lib/python3.7/dist-packages/ipykernel_launcher.py:44: FutureWarning: Indexing a timezone-aware DatetimeIndex with a timezone-naive datetime is deprecated and will raise KeyError in a future version.  Use a timezone-aware object instead.\n",
            "/usr/local/lib/python3.7/dist-packages/ipykernel_launcher.py:24: FutureWarning: Indexing a timezone-aware DatetimeIndex with a timezone-naive datetime is deprecated and will raise KeyError in a future version.  Use a timezone-aware object instead.\n"
          ]
        },
        {
          "output_type": "stream",
          "name": "stdout",
          "text": [
            "9.926661937930637\n"
          ]
        }
      ],
      "source": [
        "from datetime import datetime as dt\n",
        "import datetime\n",
        "\n",
        "funds = 100000\n",
        "split = {'aggressive': 1, 'conservative': 0}\n",
        "portfolio = {'dow jones': 0, 'gold': 0}\n",
        "first_day = dt.fromisoformat('2002-01-02').date()\n",
        "dow_history = []\n",
        "dow_time_history = []\n",
        "for day in range(7000):\n",
        "\n",
        "    #Determine what day it is\n",
        "    today = dt.fromisoformat((first_day + datetime.timedelta(days = day)).isoformat())\n",
        "\n",
        "\n",
        "    \n",
        "    #Determine what split to use in the portfolio based on the predicted model\n",
        "    if today in y_pred.index:\n",
        "        split['aggressive'] = 1\n",
        "\n",
        "    #Invest on first day\n",
        "    if today == dt.fromisoformat((first_day + datetime.timedelta(days = 1)).isoformat()):\n",
        "        funds = 100000\n",
        "        portfolio['dow jones'] = (split['aggressive'] * funds) / hist['Open'].loc[today]\n",
        "        print(portfolio['dow jones'])\n",
        "        portfolio['gold'] = 0\n",
        "    \n",
        "    #Check if markets are open\n",
        "    if today.isoweekday() in [6,7]:\n",
        "        continue;\n",
        "\n",
        "    try:\n",
        "        hist['Open'].loc[today]\n",
        "        gold_hist['Open'].loc[today]\n",
        "        dow_time_history.append(today)\n",
        "    except:\n",
        "        continue;\n",
        "    \n",
        "    #Sell all assets at their opening value\n",
        "    funds = portfolio['dow jones'] * hist['Open'].loc[today]\n",
        "    dow_history.append(funds)\n",
        "\n",
        "    #Buy new assets as determined split\n",
        "    portfolio['dow jones'] = (split['aggressive'] * funds) / hist['Open'].loc[today]\n"
      ]
    },
    {
      "cell_type": "code",
      "execution_count": 14,
      "metadata": {
        "colab": {
          "base_uri": "https://localhost:8080/",
          "height": 281
        },
        "id": "ZbumJjSKXPsH",
        "outputId": "c499ab04-5640-40bf-8196-30733bec41bd"
      },
      "outputs": [
        {
          "output_type": "display_data",
          "data": {
            "text/plain": [
              "<Figure size 432x288 with 1 Axes>"
            ],
            "image/png": "[encoded data removed]"
          },
          "metadata": {
            "needs_background": "light"
          }
        }
      ],
      "source": [
        "import matplotlib.pyplot as plt\n",
        "\n",
        "import numpy as np\n",
        "\n",
        "fig, ax = plt.subplots()\n",
        "\n",
        "plt.plot(time_history[1:],np.log(funds_history[1:]), label = 'model')\n",
        "plt.plot(dow_time_history[1:],np.log(dow_history[1:]), label = 'all dow')\n",
        "plt.title('Log of investment of model vs. DOW')\n",
        "legend = ax.legend()\n",
        "frame = legend.get_frame()\n",
        "frame.set_color('#a8aaad')\n",
        "plt.savefig('/content/drive/MyDrive/RecessionPredictor-main/figures/StockSimLog_1.png', transparent=True, dpi = 800, bbox_inches='tight');"
      ]
    },
    {
      "cell_type": "code",
      "execution_count": 15,
      "metadata": {
        "colab": {
          "base_uri": "https://localhost:8080/",
          "height": 281
        },
        "id": "ilNaMCWBXPsI",
        "outputId": "58027848-1b0e-4c6a-ec70-04840b802b68"
      },
      "outputs": [
        {
          "output_type": "display_data",
          "data": {
            "text/plain": [
              "<Figure size 432x288 with 1 Axes>"
            ],
            "image/png": "[encoded data removed]"
          },
          "metadata": {
            "needs_background": "light"
          }
        }
      ],
      "source": [
        "fig, ax = plt.subplots()\n",
        "\n",
        "import matplotlib.ticker as mtick\n",
        "ax.plot(time_history[1:],funds_history[1:], label = 'model')\n",
        "ax.plot(dow_time_history[1:],dow_history[1:], label = 'all dow')\n",
        "\n",
        "# getting the array of values of y-axis\n",
        "ticks = ax.get_yticks()\n",
        "# formatted the values into strings beginning with dollar sign\n",
        "new_labels = [f'${int(amt/1000)}K' for amt in ticks]\n",
        "# Set the new labels\n",
        "ax.set_yticklabels(new_labels)\n",
        "\n",
        "plt.title('Investment (in $USD) of model vs. DOW')\n",
        "legend = ax.legend()\n",
        "frame = legend.get_frame()\n",
        "frame.set_color('#a8aaad')\n",
        "plt.savefig('/content/drive/MyDrive/RecessionPredictor-main/figures/StockSim_1.png', transparent=True, dpi = 800, bbox_inches='tight');"
      ]
    },
    {
      "cell_type": "code",
      "execution_count": 19,
      "metadata": {
        "id": "ESQzPeAuXPsJ"
      },
      "outputs": [],
      "source": [
        "def stockSim(initial_funds = 100000, \n",
        "             initial_date = dt.fromisoformat('2001-01-02'),\n",
        "             final_date = dt.fromisoformat('1992-01-02'),\n",
        "             predictions = y_pred,\n",
        "             aggressive = hist,\n",
        "             conservative = gold_hist):\n",
        "    \"\"\"\n",
        "    Runs a simulation of the market based on predictions\n",
        "    \"\"\"\n",
        "\n",
        "    \n",
        "    \n",
        "\n",
        "\n",
        "    print('hahaha')\n",
        "    return predictions"
      ]
    },
    {
      "cell_type": "code",
      "execution_count": 20,
      "metadata": {
        "colab": {
          "base_uri": "https://localhost:8080/",
          "height": 467
        },
        "id": "I4VQg-ohXPsK",
        "outputId": "5240514b-c7f2-4490-8509-f3fa9baabf77"
      },
      "outputs": [
        {
          "output_type": "stream",
          "name": "stdout",
          "text": [
            "hahaha\n"
          ]
        },
        {
          "output_type": "execute_result",
          "data": {
            "text/plain": [
              "            recession\n",
              "Date                 \n",
              "1962-04-30   0.135537\n",
              "1962-07-31   0.135537\n",
              "1962-10-31   0.237141\n",
              "1963-01-31   0.181825\n",
              "1963-04-30   0.181825\n",
              "...               ...\n",
              "2020-10-31   0.335963\n",
              "2021-01-31   0.260435\n",
              "2021-04-30   0.332130\n",
              "2021-07-31   0.481176\n",
              "2021-10-31   0.462806\n",
              "\n",
              "[239 rows x 1 columns]"
            ],
            "text/html": [
              "\n",
              "  <div id=\"df-ad3ee161-a177-49db-8db7-7e3c06ff8f24\">\n",
              "    <div class=\"colab-df-container\">\n",
              "      <div>\n",
              "<style scoped>\n",
              "    .dataframe tbody tr th:only-of-type {\n",
              "        vertical-align: middle;\n",
              "    }\n",
              "\n",
              "    .dataframe tbody tr th {\n",
              "        vertical-align: top;\n",
              "    }\n",
              "\n",
              "    .dataframe thead th {\n",
              "        text-align: right;\n",
              "    }\n",
              "</style>\n",
              "<table border=\"1\" class=\"dataframe\">\n",
              "  <thead>\n",
              "    <tr style=\"text-align: right;\">\n",
              "      <th></th>\n",
              "      <th>recession</th>\n",
              "    </tr>\n",
              "    <tr>\n",
              "      <th>Date</th>\n",
              "      <th></th>\n",
              "    </tr>\n",
              "  </thead>\n",
              "  <tbody>\n",
              "    <tr>\n",
              "      <th>1962-04-30</th>\n",
              "      <td>0.135537</td>\n",
              "    </tr>\n",
              "    <tr>\n",
              "      <th>1962-07-31</th>\n",
              "      <td>0.135537</td>\n",
              "    </tr>\n",
              "    <tr>\n",
              "      <th>1962-10-31</th>\n",
              "      <td>0.237141</td>\n",
              "    </tr>\n",
              "    <tr>\n",
              "      <th>1963-01-31</th>\n",
              "      <td>0.181825</td>\n",
              "    </tr>\n",
              "    <tr>\n",
              "      <th>1963-04-30</th>\n",
              "      <td>0.181825</td>\n",
              "    </tr>\n",
              "    <tr>\n",
              "      <th>...</th>\n",
              "      <td>...</td>\n",
              "    </tr>\n",
              "    <tr>\n",
              "      <th>2020-10-31</th>\n",
              "      <td>0.335963</td>\n",
              "    </tr>\n",
              "    <tr>\n",
              "      <th>2021-01-31</th>\n",
              "      <td>0.260435</td>\n",
              "    </tr>\n",
              "    <tr>\n",
              "      <th>2021-04-30</th>\n",
              "      <td>0.332130</td>\n",
              "    </tr>\n",
              "    <tr>\n",
              "      <th>2021-07-31</th>\n",
              "      <td>0.481176</td>\n",
              "    </tr>\n",
              "    <tr>\n",
              "      <th>2021-10-31</th>\n",
              "      <td>0.462806</td>\n",
              "    </tr>\n",
              "  </tbody>\n",
              "</table>\n",
              "<p>239 rows × 1 columns</p>\n",
              "</div>\n",
              "      <button class=\"colab-df-convert\" onclick=\"convertToInteractive('df-ad3ee161-a177-49db-8db7-7e3c06ff8f24')\"\n",
              "              title=\"Convert this dataframe to an interactive table.\"\n",
              "              style=\"display:none;\">\n",
              "        \n",
              "  <svg xmlns=\"http://www.w3.org/2000/svg\" height=\"24px\"viewBox=\"0 0 24 24\"\n",
              "       width=\"24px\">\n",
              "    <path d=\"M0 0h24v24H0V0z\" fill=\"none\"/>\n",
              "    <path d=\"M18.56 5.44l.94 2.06.94-2.06 2.06-.94-2.06-.94-.94-2.06-.94 2.06-2.06.94zm-11 1L8.5 8.5l.94-2.06 2.06-.94-2.06-.94L8.5 2.5l-.94 2.06-2.06.94zm10 10l.94 2.06.94-2.06 2.06-.94-2.06-.94-.94-2.06-.94 2.06-2.06.94z\"/><path d=\"M17.41 7.96l-1.37-1.37c-.4-.4-.92-.59-1.43-.59-.52 0-1.04.2-1.43.59L10.3 9.45l-7.72 7.72c-.78.78-.78 2.05 0 2.83L4 21.41c.39.39.9.59 1.41.59.51 0 1.02-.2 1.41-.59l7.78-7.78 2.81-2.81c.8-.78.8-2.07 0-2.86zM5.41 20L4 18.59l7.72-7.72 1.47 1.35L5.41 20z\"/>\n",
              "  </svg>\n",
              "      </button>\n",
              "      \n",
              "  <style>\n",
              "    .colab-df-container {\n",
              "      display:flex;\n",
              "      flex-wrap:wrap;\n",
              "      gap: 12px;\n",
              "    }\n",
              "\n",
              "    .colab-df-convert {\n",
              "      background-color: #E8F0FE;\n",
              "      border: none;\n",
              "      border-radius: 50%;\n",
              "      cursor: pointer;\n",
              "      display: none;\n",
              "      fill: #1967D2;\n",
              "      height: 32px;\n",
              "      padding: 0 0 0 0;\n",
              "      width: 32px;\n",
              "    }\n",
              "\n",
              "    .colab-df-convert:hover {\n",
              "      background-color: #E2EBFA;\n",
              "      box-shadow: 0px 1px 2px rgba(60, 64, 67, 0.3), 0px 1px 3px 1px rgba(60, 64, 67, 0.15);\n",
              "      fill: #174EA6;\n",
              "    }\n",
              "\n",
              "    [theme=dark] .colab-df-convert {\n",
              "      background-color: #3B4455;\n",
              "      fill: #D2E3FC;\n",
              "    }\n",
              "\n",
              "    [theme=dark] .colab-df-convert:hover {\n",
              "      background-color: #434B5C;\n",
              "      box-shadow: 0px 1px 3px 1px rgba(0, 0, 0, 0.15);\n",
              "      filter: drop-shadow(0px 1px 2px rgba(0, 0, 0, 0.3));\n",
              "      fill: #FFFFFF;\n",
              "    }\n",
              "  </style>\n",
              "\n",
              "      <script>\n",
              "        const buttonEl =\n",
              "          document.querySelector('#df-ad3ee161-a177-49db-8db7-7e3c06ff8f24 button.colab-df-convert');\n",
              "        buttonEl.style.display =\n",
              "          google.colab.kernel.accessAllowed ? 'block' : 'none';\n",
              "\n",
              "        async function convertToInteractive(key) {\n",
              "          const element = document.querySelector('#df-ad3ee161-a177-49db-8db7-7e3c06ff8f24');\n",
              "          const dataTable =\n",
              "            await google.colab.kernel.invokeFunction('convertToInteractive',\n",
              "                                                     [key], {});\n",
              "          if (!dataTable) return;\n",
              "\n",
              "          const docLinkHtml = 'Like what you see? Visit the ' +\n",
              "            '<a target=\"_blank\" href=https://colab.research.google.com/notebooks/data_table.ipynb>data table notebook</a>'\n",
              "            + ' to learn more about interactive tables.';\n",
              "          element.innerHTML = '';\n",
              "          dataTable['output_type'] = 'display_data';\n",
              "          await google.colab.output.renderOutput(dataTable, element);\n",
              "          const docLink = document.createElement('div');\n",
              "          docLink.innerHTML = docLinkHtml;\n",
              "          element.appendChild(docLink);\n",
              "        }\n",
              "      </script>\n",
              "    </div>\n",
              "  </div>\n",
              "  "
            ]
          },
          "metadata": {},
          "execution_count": 20
        }
      ],
      "source": [
        "stockSim()"
      ]
    }
  ],
  "metadata": {
    "interpreter": {
      "hash": "0c1f5ce8eed932a4317a88fdfc83317a84584de98614c992901b7b196b5e3487"
    },
    "kernelspec": {
      "display_name": "Python 3.8.8 ('base')",
      "language": "python",
      "name": "python3"
    },
    "language_info": {
      "codemirror_mode": {
        "name": "ipython",
        "version": 3
      },
      "file_extension": ".py",
      "mimetype": "text/x-python",
      "name": "python",
      "nbconvert_exporter": "python",
      "pygments_lexer": "ipython3",
      "version": "3.8.8"
    },
    "orig_nbformat": 4,
    "colab": {
      "provenance": []
    }
  },
  "nbformat": 4,
  "nbformat_minor": 0
}